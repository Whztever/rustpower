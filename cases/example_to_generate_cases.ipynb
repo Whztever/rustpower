{
 "cells": [
  {
   "cell_type": "code",
   "execution_count": 92,
   "id": "59fefb9a-b2d5-486b-9866-abec8fdeec35",
   "metadata": {},
   "outputs": [],
   "source": [
    "import pandapower as pp\n",
    "import  pandapower.networks as nets\n",
    "import os\n",
    "import io\n",
    "import zipfile"
   ]
  },
  {
   "cell_type": "code",
   "execution_count": 93,
   "id": "0ab964d6-8a82-44b1-a9a1-c4874c679666",
   "metadata": {},
   "outputs": [],
   "source": [
    "net = nets.case118()"
   ]
  },
  {
   "cell_type": "code",
   "execution_count": 94,
   "id": "0eb3828c-6b93-455d-97ae-17b38d244f62",
   "metadata": {},
   "outputs": [],
   "source": [
    "def to_csv(net,path):\n",
    " \n",
    "    #the sn_mva and f_hz are not included in csv files!\n",
    "    net.bus.to_csv(os.path.join(path,\"bus.csv\"),index_label=\"index\")\n",
    "    net.line.to_csv(os.path.join(path,\"line.csv\"),index=False)\n",
    "    net.load.to_csv(os.path.join(path,\"load.csv\"),index=False)\n",
    "    net.gen.to_csv(os.path.join(path,\"gen.csv\"),index=False)\n",
    "    net.shunt.to_csv(os.path.join(path,\"shunt.csv\"),index=False)\n",
    "    net.trafo.to_csv(os.path.join(path,\"trafo.csv\"),index=False)\n",
    "    net.ext_grid.to_csv(os.path.join(path,\"ext_grid.csv\"),index=False)"
   ]
  },
  {
   "cell_type": "code",
   "execution_count": 95,
   "id": "9fe13d33-2b55-4649-9d62-cdab58810d0b",
   "metadata": {},
   "outputs": [],
   "source": [
    "def to_csv_zip(net,filepath):\n",
    "    def compress_files_to_zip(files_dict, output_path):\n",
    "        with zipfile.ZipFile(output_path, 'w', zipfile.ZIP_DEFLATED , allowZip64=True) as zipf:\n",
    "            for relative_path, file_content in files_dict.items():\n",
    "                zipf.writestr(relative_path, file_content)\n",
    "\n",
    "\n",
    "    file_dict={}\n",
    "    for name, df in [(\"bus.csv\", net.bus), \n",
    "                     (\"line.csv\", net.line),\n",
    "                     (\"load.csv\", net.load),\n",
    "                     (\"gen.csv\", net.gen),\n",
    "                     (\"shunt.csv\", net.shunt),\n",
    "                     (\"trafo.csv\", net.trafo),\n",
    "                     (\"ext_grid.csv\", net.ext_grid)]:\n",
    "        file_dict[name] = df.to_csv(index_label=\"index\" if name == \"bus.csv\" else None, \n",
    "                               index=True if name == \"bus.csv\" else False )\n",
    "        \n",
    "    \n",
    "    compress_files_to_zip(file_dict,filepath)\n",
    "\n",
    "    return "
   ]
  },
  {
   "cell_type": "code",
   "execution_count": 96,
   "id": "4c85a76f-062b-4a8a-a1b5-34104a9843f9",
   "metadata": {},
   "outputs": [],
   "source": [
    "to_csv_zip(net,\"./IEEE118/data.zip\")"
   ]
  },
  {
   "cell_type": "code",
   "execution_count": 97,
   "id": "1a80ae7e-9fcd-4a33-9797-a0667c53be04",
   "metadata": {},
   "outputs": [],
   "source": [
    "to_csv(net,\"./IEEE118/\")"
   ]
  },
  {
   "cell_type": "code",
   "execution_count": null,
   "id": "a92e5ebe-919f-448d-b32a-fb74f610d6d2",
   "metadata": {},
   "outputs": [],
   "source": []
  }
 ],
 "metadata": {
  "kernelspec": {
   "display_name": "Python 3",
   "language": "python",
   "name": "python3"
  },
  "language_info": {
   "codemirror_mode": {
    "name": "ipython",
    "version": 3
   },
   "file_extension": ".py",
   "mimetype": "text/x-python",
   "name": "python",
   "nbconvert_exporter": "python",
   "pygments_lexer": "ipython3",
   "version": "3.12.2"
  }
 },
 "nbformat": 4,
 "nbformat_minor": 5
}
